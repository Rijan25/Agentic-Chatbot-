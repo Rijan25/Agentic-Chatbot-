{
 "cells": [
  {
   "cell_type": "code",
   "execution_count": 14,
   "id": "5511ae9c",
   "metadata": {},
   "outputs": [],
   "source": [
    "from langgraph.graph import StateGraph,START,END\n",
    "from langgraph.checkpoint.memory import InMemorySaver\n",
    "from langchain_google_genai import ChatGoogleGenerativeAI\n",
    "from typing import Annotated,Literal,TypedDict\n",
    "from dotenv import load_dotenv\n",
    "import os"
   ]
  },
  {
   "cell_type": "code",
   "execution_count": 15,
   "id": "bfad91eb",
   "metadata": {},
   "outputs": [],
   "source": [
    "api_key=os.getenv('GOOGLE_API_KEY')\n",
    "model=ChatGoogleGenerativeAI(model='gemini-2.5-flash-lite-preview-09-2025',api_key=api_key,temperature=0.7)"
   ]
  },
  {
   "cell_type": "code",
   "execution_count": 16,
   "id": "855a9ce8",
   "metadata": {},
   "outputs": [],
   "source": [
    "class JokeState(TypedDict):\n",
    "    title:str\n",
    "    joke:str\n",
    "    explanation:str"
   ]
  },
  {
   "cell_type": "code",
   "execution_count": 22,
   "id": "6c16643a",
   "metadata": {},
   "outputs": [],
   "source": [
    "def make_joke(state:JokeState):\n",
    "    title=state['title']\n",
    "    result=model.invoke(f'Make one joke on the topic of {title}').content\n",
    "    return {'joke':result}"
   ]
  },
  {
   "cell_type": "code",
   "execution_count": 23,
   "id": "032668fe",
   "metadata": {},
   "outputs": [],
   "source": [
    "def explain_joke(state:JokeState):\n",
    "    joke=state['joke']\n",
    "    result=model.invoke(f'Explain me this joke: {joke}').content\n",
    "    return {'explanation':result}"
   ]
  },
  {
   "cell_type": "code",
   "execution_count": 27,
   "id": "db2a8078",
   "metadata": {},
   "outputs": [
    {
     "data": {
      "image/png": "[encoded data removed]",
      "text/plain": [
       "<langgraph.graph.state.CompiledStateGraph object at 0x000001AE9B27DA00>"
      ]
     },
     "execution_count": 27,
     "metadata": {},
     "output_type": "execute_result"
    }
   ],
   "source": [
    "checkpointer=InMemorySaver()\n",
    "thread_id='1'\n",
    "# make the graph\n",
    "graph=StateGraph(JokeState)\n",
    "\n",
    "# make the nodes\n",
    "graph.add_node('make_joke',make_joke)\n",
    "graph.add_node('explain_joke',explain_joke)\n",
    "\n",
    "# make the edges\n",
    "graph.add_edge(START,'make_joke')\n",
    "graph.add_edge('make_joke','explain_joke')\n",
    "graph.add_edge('explain_joke',END)\n",
    "\n",
    "# make the workflow of the graph\n",
    "joke=graph.compile(checkpointer=checkpointer)\n",
    "joke"
   ]
  },
  {
   "cell_type": "code",
   "execution_count": 32,
   "id": "1e9cdbe0",
   "metadata": {},
   "outputs": [],
   "source": [
    "# execute the graph\n",
    "initial_state={\n",
    "    'title':'Democracy'\n",
    "}\n",
    "config1={'configurable':{'thread_id':'1'}}"
   ]
  },
  {
   "cell_type": "code",
   "execution_count": 33,
   "id": "618aa166",
   "metadata": {},
   "outputs": [],
   "source": [
    "output_state=joke.invoke(initial_state,config=config1)"
   ]
  },
  {
   "cell_type": "code",
   "execution_count": 36,
   "id": "9b8e9642",
   "metadata": {},
   "outputs": [
    {
     "data": {
      "text/plain": [
       "StateSnapshot(values={'title': 'Democracy', 'joke': 'Why did the ballot box break up with the voting booth?\\n\\nBecause it felt like the booth was always trying to *influence* its decision!', 'explanation': 'This is a clever play on words that works on two levels:\\n\\n**1. The Literal/Physical Level (The Objects):**\\n\\n* **Ballot Box:** This is the container where you put your completed ballot (your vote).\\n* **Voting Booth:** This is the private enclosure where you mark your ballot.\\n\\nIn a physical sense, the booth is the place where the decision (the marking of the vote) is *made*, and the ballot box is the place where the decision is *deposited*.\\n\\n**2. The Figurative/Political Level (The Pun):**\\n\\nThe humor comes from the word **\"influence\"**:\\n\\n* **In a Political Context:** \"Influence\" refers to trying to sway someone\\'s opinion or decision, often in a biased or persuasive way. The joke suggests the booth was pressuring the box about *how* to vote.\\n* **In the Context of the Joke\\'s Relationship:** When a couple breaks up, one common reason is feeling that the other person is too controlling or constantly trying to *influence* what they do or how they feel.\\n\\n**Why it\\'s funny:**\\n\\nThe joke personifies inanimate objects related to the democratic process. It takes the serious concept of casting a private vote and applies the petty, relatable drama of a breakup, using political jargon (\"influence\") as the reason for the separation. It implies the voting booth was being a nagging, controlling partner about the results!'}, next=(), config={'configurable': {'thread_id': '1', 'checkpoint_ns': '', 'checkpoint_id': '1f0a8d52-5e3f-634d-8004-93ff1da128f6'}}, metadata={'source': 'loop', 'step': 4, 'parents': {}}, created_at='2025-10-14T08:09:46.568174+00:00', parent_config={'configurable': {'thread_id': '1', 'checkpoint_ns': '', 'checkpoint_id': '1f0a8d52-4fcd-6e69-8003-37363bb1578c'}}, tasks=(), interrupts=())"
      ]
     },
     "execution_count": 36,
     "metadata": {},
     "output_type": "execute_result"
    }
   ],
   "source": [
    "joke.get_state(config1)"
   ]
  },
  {
   "cell_type": "code",
   "execution_count": 37,
   "id": "82a38f85",
   "metadata": {},
   "outputs": [
    {
     "data": {
      "text/plain": [
       "[StateSnapshot(values={'title': 'Democracy', 'joke': 'Why did the ballot box break up with the voting booth?\\n\\nBecause it felt like the booth was always trying to *influence* its decision!', 'explanation': 'This is a clever play on words that works on two levels:\\n\\n**1. The Literal/Physical Level (The Objects):**\\n\\n* **Ballot Box:** This is the container where you put your completed ballot (your vote).\\n* **Voting Booth:** This is the private enclosure where you mark your ballot.\\n\\nIn a physical sense, the booth is the place where the decision (the marking of the vote) is *made*, and the ballot box is the place where the decision is *deposited*.\\n\\n**2. The Figurative/Political Level (The Pun):**\\n\\nThe humor comes from the word **\"influence\"**:\\n\\n* **In a Political Context:** \"Influence\" refers to trying to sway someone\\'s opinion or decision, often in a biased or persuasive way. The joke suggests the booth was pressuring the box about *how* to vote.\\n* **In the Context of the Joke\\'s Relationship:** When a couple breaks up, one common reason is feeling that the other person is too controlling or constantly trying to *influence* what they do or how they feel.\\n\\n**Why it\\'s funny:**\\n\\nThe joke personifies inanimate objects related to the democratic process. It takes the serious concept of casting a private vote and applies the petty, relatable drama of a breakup, using political jargon (\"influence\") as the reason for the separation. It implies the voting booth was being a nagging, controlling partner about the results!'}, next=(), config={'configurable': {'thread_id': '1', 'checkpoint_ns': '', 'checkpoint_id': '1f0a8d52-5e3f-634d-8004-93ff1da128f6'}}, metadata={'source': 'loop', 'step': 4, 'parents': {}}, created_at='2025-10-14T08:09:46.568174+00:00', parent_config={'configurable': {'thread_id': '1', 'checkpoint_ns': '', 'checkpoint_id': '1f0a8d52-4fcd-6e69-8003-37363bb1578c'}}, tasks=(), interrupts=()),\n",
       " StateSnapshot(values={'title': 'Democracy', 'joke': 'Why did the ballot box break up with the voting booth?\\n\\nBecause it felt like the booth was always trying to *influence* its decision!'}, next=('explain_joke',), config={'configurable': {'thread_id': '1', 'checkpoint_ns': '', 'checkpoint_id': '1f0a8d52-4fcd-6e69-8003-37363bb1578c'}}, metadata={'source': 'loop', 'step': 3, 'parents': {}}, created_at='2025-10-14T08:09:45.053757+00:00', parent_config={'configurable': {'thread_id': '1', 'checkpoint_ns': '', 'checkpoint_id': '1f0a8d52-473b-63ec-8002-8d111ec161b7'}}, tasks=(PregelTask(id='58825029-9855-6ce6-a59f-2ab23e0cb13c', name='explain_joke', path=('__pregel_pull', 'explain_joke'), error=None, interrupts=(), state=None, result={'explanation': 'This is a clever play on words that works on two levels:\\n\\n**1. The Literal/Physical Level (The Objects):**\\n\\n* **Ballot Box:** This is the container where you put your completed ballot (your vote).\\n* **Voting Booth:** This is the private enclosure where you mark your ballot.\\n\\nIn a physical sense, the booth is the place where the decision (the marking of the vote) is *made*, and the ballot box is the place where the decision is *deposited*.\\n\\n**2. The Figurative/Political Level (The Pun):**\\n\\nThe humor comes from the word **\"influence\"**:\\n\\n* **In a Political Context:** \"Influence\" refers to trying to sway someone\\'s opinion or decision, often in a biased or persuasive way. The joke suggests the booth was pressuring the box about *how* to vote.\\n* **In the Context of the Joke\\'s Relationship:** When a couple breaks up, one common reason is feeling that the other person is too controlling or constantly trying to *influence* what they do or how they feel.\\n\\n**Why it\\'s funny:**\\n\\nThe joke personifies inanimate objects related to the democratic process. It takes the serious concept of casting a private vote and applies the petty, relatable drama of a breakup, using political jargon (\"influence\") as the reason for the separation. It implies the voting booth was being a nagging, controlling partner about the results!'}),), interrupts=()),\n",
       " StateSnapshot(values={'title': 'Democracy'}, next=('make_joke',), config={'configurable': {'thread_id': '1', 'checkpoint_ns': '', 'checkpoint_id': '1f0a8d52-473b-63ec-8002-8d111ec161b7'}}, metadata={'source': 'loop', 'step': 2, 'parents': {}}, created_at='2025-10-14T08:09:44.154826+00:00', parent_config={'configurable': {'thread_id': '1', 'checkpoint_ns': '', 'checkpoint_id': '1f0a8d52-4733-6e8d-8001-d58adfcef4d5'}}, tasks=(PregelTask(id='aa93f1c0-be61-d3cd-9b70-4c314d8156aa', name='make_joke', path=('__pregel_pull', 'make_joke'), error=None, interrupts=(), state=None, result={'joke': 'Why did the ballot box break up with the voting booth?\\n\\nBecause it felt like the booth was always trying to *influence* its decision!'}),), interrupts=()),\n",
       " StateSnapshot(values={}, next=('__start__',), config={'configurable': {'thread_id': '1', 'checkpoint_ns': '', 'checkpoint_id': '1f0a8d52-4733-6e8d-8001-d58adfcef4d5'}}, metadata={'source': 'input', 'step': 1, 'parents': {}}, created_at='2025-10-14T08:09:44.151822+00:00', parent_config={'configurable': {'thread_id': '1', 'checkpoint_ns': '', 'checkpoint_id': '1f0a8d50-5710-6d18-8000-cdcbccf61af8'}}, tasks=(PregelTask(id='da71d2d4-d073-ebc6-0b28-c26abee1188a', name='__start__', path=('__pregel_pull', '__start__'), error=None, interrupts=(), state=None, result={'title': 'Democracy'}),), interrupts=()),\n",
       " StateSnapshot(values={}, next=('make_joke',), config={'configurable': {'thread_id': '1', 'checkpoint_ns': '', 'checkpoint_id': '1f0a8d50-5710-6d18-8000-cdcbccf61af8'}}, metadata={'source': 'loop', 'step': 0, 'parents': {}}, created_at='2025-10-14T08:08:52.128079+00:00', parent_config={'configurable': {'thread_id': '1', 'checkpoint_ns': '', 'checkpoint_id': '1f0a8d50-5707-60a9-bfff-cbf824c3aa34'}}, tasks=(PregelTask(id='5ff86e09-6bf7-efc5-3fb1-7fc9168ae4ea', name='make_joke', path=('__pregel_pull', 'make_joke'), error=\"KeyError('title')\", interrupts=(), state=None, result=None),), interrupts=()),\n",
       " StateSnapshot(values={}, next=('__start__',), config={'configurable': {'thread_id': '1', 'checkpoint_ns': '', 'checkpoint_id': '1f0a8d50-5707-60a9-bfff-cbf824c3aa34'}}, metadata={'source': 'input', 'step': -1, 'parents': {}}, created_at='2025-10-14T08:08:52.124074+00:00', parent_config=None, tasks=(PregelTask(id='ff363d8f-e276-7f7d-1a65-675295f5f6f6', name='__start__', path=('__pregel_pull', '__start__'), error=None, interrupts=(), state=None, result={}),), interrupts=())]"
      ]
     },
     "execution_count": 37,
     "metadata": {},
     "output_type": "execute_result"
    }
   ],
   "source": [
    "list(joke.get_state_history(config1))"
   ]
  },
  {
   "cell_type": "code",
   "execution_count": 38,
   "id": "e9be5f7a",
   "metadata": {},
   "outputs": [],
   "source": [
    "config2={'configurable':{'thread_id':'2'}}\n",
    "outputs=joke.invoke({'title':'Samosa'},config=config2)"
   ]
  },
  {
   "cell_type": "code",
   "execution_count": 39,
   "id": "4814a892",
   "metadata": {},
   "outputs": [
    {
     "data": {
      "text/plain": [
       "{'title': 'Samosa',\n",
       " 'joke': 'Why did the samosa break up with the chutney?\\n\\nBecause it felt their relationship was getting too **spicy**!',\n",
       " 'explanation': 'This is a simple, food-based pun! Here\\'s the breakdown of why it\\'s funny:\\n\\n1. **The Characters:** The joke features two very common and popular Indian snacks:\\n    * **Samosa:** A fried or baked pastry with a savory filling (often potatoes, peas, and spices).\\n    * **Chutney:** A flavorful condiment (like a sauce or relish) that is almost always served *with* the samosa.\\n\\n2. **The Relationship:** Samosas and chutneys are meant to be together. They are a classic pairing, making the idea of them \"breaking up\" inherently silly.\\n\\n3. **The Punchline (The Pun):** \"Because it felt their relationship was getting too **spicy**!\"\\n    * **Literal Meaning (Food):** Chutneys are often spicy (hot) due to ingredients like chilies or ginger. The relationship between the two foods is literally enhanced by spice.\\n    * **Figurative Meaning (Relationship):** In human relationships, \"spicy\" is a slang term for being **exciting, passionate, dramatic, or overly intense/argumentative.**\\n\\n**The Humor:**\\n\\nThe joke takes the literal quality of the food (the chutney being spicy) and applies it metaphorically to the emotional state of the relationship. The humor comes from the absurdity of a pastry worrying about the emotional \"heat\" of its romantic life with a condiment.'}"
      ]
     },
     "execution_count": 39,
     "metadata": {},
     "output_type": "execute_result"
    }
   ],
   "source": [
    "outputs"
   ]
  },
  {
   "cell_type": "code",
   "execution_count": 41,
   "id": "4cdeb55f",
   "metadata": {},
   "outputs": [
    {
     "data": {
      "text/plain": [
       "[StateSnapshot(values={'title': 'Samosa', 'joke': 'Why did the samosa break up with the chutney?\\n\\nBecause it felt their relationship was getting too **spicy**!', 'explanation': 'This is a simple, food-based pun! Here\\'s the breakdown of why it\\'s funny:\\n\\n1. **The Characters:** The joke features two very common and popular Indian snacks:\\n    * **Samosa:** A fried or baked pastry with a savory filling (often potatoes, peas, and spices).\\n    * **Chutney:** A flavorful condiment (like a sauce or relish) that is almost always served *with* the samosa.\\n\\n2. **The Relationship:** Samosas and chutneys are meant to be together. They are a classic pairing, making the idea of them \"breaking up\" inherently silly.\\n\\n3. **The Punchline (The Pun):** \"Because it felt their relationship was getting too **spicy**!\"\\n    * **Literal Meaning (Food):** Chutneys are often spicy (hot) due to ingredients like chilies or ginger. The relationship between the two foods is literally enhanced by spice.\\n    * **Figurative Meaning (Relationship):** In human relationships, \"spicy\" is a slang term for being **exciting, passionate, dramatic, or overly intense/argumentative.**\\n\\n**The Humor:**\\n\\nThe joke takes the literal quality of the food (the chutney being spicy) and applies it metaphorically to the emotional state of the relationship. The humor comes from the absurdity of a pastry worrying about the emotional \"heat\" of its romantic life with a condiment.'}, next=(), config={'configurable': {'thread_id': '2', 'checkpoint_ns': '', 'checkpoint_id': '1f0a8d5e-19f9-6023-8002-5e1205108467'}}, metadata={'source': 'loop', 'step': 2, 'parents': {}}, created_at='2025-10-14T08:15:01.531651+00:00', parent_config={'configurable': {'thread_id': '2', 'checkpoint_ns': '', 'checkpoint_id': '1f0a8d5e-0de8-622a-8001-87a2af7fcd32'}}, tasks=(), interrupts=()),\n",
       " StateSnapshot(values={'title': 'Samosa', 'joke': 'Why did the samosa break up with the chutney?\\n\\nBecause it felt their relationship was getting too **spicy**!'}, next=('explain_joke',), config={'configurable': {'thread_id': '2', 'checkpoint_ns': '', 'checkpoint_id': '1f0a8d5e-0de8-622a-8001-87a2af7fcd32'}}, metadata={'source': 'loop', 'step': 1, 'parents': {}}, created_at='2025-10-14T08:15:00.266449+00:00', parent_config={'configurable': {'thread_id': '2', 'checkpoint_ns': '', 'checkpoint_id': '1f0a8d5e-0034-6590-8000-6fde19df356c'}}, tasks=(PregelTask(id='40ded4c1-5253-f8e1-b5c6-f2f5bae51f92', name='explain_joke', path=('__pregel_pull', 'explain_joke'), error=None, interrupts=(), state=None, result={'explanation': 'This is a simple, food-based pun! Here\\'s the breakdown of why it\\'s funny:\\n\\n1. **The Characters:** The joke features two very common and popular Indian snacks:\\n    * **Samosa:** A fried or baked pastry with a savory filling (often potatoes, peas, and spices).\\n    * **Chutney:** A flavorful condiment (like a sauce or relish) that is almost always served *with* the samosa.\\n\\n2. **The Relationship:** Samosas and chutneys are meant to be together. They are a classic pairing, making the idea of them \"breaking up\" inherently silly.\\n\\n3. **The Punchline (The Pun):** \"Because it felt their relationship was getting too **spicy**!\"\\n    * **Literal Meaning (Food):** Chutneys are often spicy (hot) due to ingredients like chilies or ginger. The relationship between the two foods is literally enhanced by spice.\\n    * **Figurative Meaning (Relationship):** In human relationships, \"spicy\" is a slang term for being **exciting, passionate, dramatic, or overly intense/argumentative.**\\n\\n**The Humor:**\\n\\nThe joke takes the literal quality of the food (the chutney being spicy) and applies it metaphorically to the emotional state of the relationship. The humor comes from the absurdity of a pastry worrying about the emotional \"heat\" of its romantic life with a condiment.'}),), interrupts=()),\n",
       " StateSnapshot(values={'title': 'Samosa'}, next=('make_joke',), config={'configurable': {'thread_id': '2', 'checkpoint_ns': '', 'checkpoint_id': '1f0a8d5e-0034-6590-8000-6fde19df356c'}}, metadata={'source': 'loop', 'step': 0, 'parents': {}}, created_at='2025-10-14T08:14:58.829659+00:00', parent_config={'configurable': {'thread_id': '2', 'checkpoint_ns': '', 'checkpoint_id': '1f0a8d5e-002b-6f6e-bfff-a0bb9c5701a6'}}, tasks=(PregelTask(id='af29b789-fa17-c055-6491-69ea06ba47a9', name='make_joke', path=('__pregel_pull', 'make_joke'), error=None, interrupts=(), state=None, result={'joke': 'Why did the samosa break up with the chutney?\\n\\nBecause it felt their relationship was getting too **spicy**!'}),), interrupts=()),\n",
       " StateSnapshot(values={}, next=('__start__',), config={'configurable': {'thread_id': '2', 'checkpoint_ns': '', 'checkpoint_id': '1f0a8d5e-002b-6f6e-bfff-a0bb9c5701a6'}}, metadata={'source': 'input', 'step': -1, 'parents': {}}, created_at='2025-10-14T08:14:58.826225+00:00', parent_config=None, tasks=(PregelTask(id='a98938a8-8310-ab31-5553-322fc9cd7837', name='__start__', path=('__pregel_pull', '__start__'), error=None, interrupts=(), state=None, result={'title': 'Samosa'}),), interrupts=())]"
      ]
     },
     "execution_count": 41,
     "metadata": {},
     "output_type": "execute_result"
    }
   ],
   "source": [
    "list(joke.get_state_history(config2))"
   ]
  },
  {
   "cell_type": "code",
   "execution_count": null,
   "id": "f08f1309",
   "metadata": {},
   "outputs": [
    {
     "data": {
      "text/plain": [
       "{'title': 'Samosa',\n",
       " 'joke': 'Why did the samosa break up with the chutney?\\n\\nBecause it felt like their relationship was getting a little too **spicy**!',\n",
       " 'explanation': 'This is a classic food pun joke! Here\\'s the breakdown of why it\\'s funny:\\n\\n1. **The Characters:**\\n    * **Samosa:** A popular, savory, deep-fried pastry (usually triangular) from South Asia.\\n    * **Chutney:** A condiment (sauce or relish) that is often served *with* the samosa.\\n\\n2. **The Context (The Relationship):**\\n    * Samosas and chutneys are almost always eaten together. They are a natural, expected pairing.\\n\\n3. **The Punchline: \"Too Spicy\"**\\n    * **Literal Meaning (Food):** Chutneys, especially mint or chili chutneys, are often quite spicy (hot). The samosa might genuinely be overwhelmed by the heat of the chutney.\\n    * **Figurative Meaning (Relationship):** In human relationships, saying things are getting \"too spicy\" means the relationship has become:\\n        * Too intense or passionate.\\n        * Too dramatic or argumentative.\\n        * Too much drama or conflict.\\n\\n**The Humor:**\\n\\nThe joke works by taking the literal, edible characteristic of the chutney (its spiciness) and applying it metaphorically to the problems within the relationship. The punchline suggests the reason for the breakup is the same reason the food is delicious—the intensity—but frames it as a negative outcome for the relationship.'}"
      ]
     },
     "execution_count": 43,
     "metadata": {},
     "output_type": "execute_result"
    }
   ],
   "source": [
    "# # Time Travel Concept\n",
    "# joke.invoke(None,{'configurable':{'thread_id':'2','checkpoint_id':'1f0a8d5e-002b-6f6e-bfff-a0bb9c5701a6'}})"
   ]
  },
  {
   "cell_type": "code",
   "execution_count": 53,
   "id": "449504fb",
   "metadata": {},
   "outputs": [
    {
     "data": {
      "text/plain": [
       "{'configurable': {'thread_id': '2',\n",
       "  'checkpoint_ns': '',\n",
       "  'checkpoint_id': '1f0a8de9-0c68-65bb-8001-893d9d521943'}}"
      ]
     },
     "execution_count": 53,
     "metadata": {},
     "output_type": "execute_result"
    }
   ],
   "source": [
    "# Updating the State\n",
    "joke.update_state({'configurable':{'thread_id':'2','checkpoint_id':'1f0a8d5e-0034-6590-8000-6fde19df356c','checkpoint_ns':''}},{'topic':'Golgappa'})"
   ]
  },
  {
   "cell_type": "code",
   "execution_count": 56,
   "id": "c10e3999",
   "metadata": {},
   "outputs": [
    {
     "data": {
      "text/plain": [
       "[StateSnapshot(values={}, next=('make_joke',), config={'configurable': {'thread_id': '1', 'checkpoint_ns': '', 'checkpoint_id': '1f0a8de8-3a0c-6873-8000-4c68fd5007aa'}}, metadata={'source': 'update', 'step': 0, 'parents': {}}, created_at='2025-10-14T09:16:49.304382+00:00', parent_config={'configurable': {'thread_id': '1', 'checkpoint_ns': '', 'checkpoint_id': '1f0a8d5e-0034-6590-8000-6fde19df356c'}}, tasks=(PregelTask(id='cca02d80-95cd-1e63-ee14-233d5e805cb4', name='make_joke', path=('__pregel_pull', 'make_joke'), error=None, interrupts=(), state=None, result=None),), interrupts=()),\n",
       " StateSnapshot(values={}, next=('make_joke',), config={'configurable': {'thread_id': '1', 'checkpoint_ns': '', 'checkpoint_id': '1f0a8de6-f50f-627c-8000-1388a7e650d6'}}, metadata={'source': 'update', 'step': 0, 'parents': {}}, created_at='2025-10-14T09:16:15.226738+00:00', parent_config={'configurable': {'thread_id': '1', 'checkpoint_ns': '', 'checkpoint_id': '1f0a8d5e-0034-6590-8000-6fde19df356c'}}, tasks=(PregelTask(id='69ecb2e2-5e80-c7b3-ee66-b4427dc9f57c', name='make_joke', path=('__pregel_pull', 'make_joke'), error=None, interrupts=(), state=None, result=None),), interrupts=()),\n",
       " StateSnapshot(values={'title': 'Democracy', 'joke': 'Why did the ballot box break up with the voting booth?\\n\\nBecause it felt like the booth was always trying to *influence* its decision!', 'explanation': 'This is a clever play on words that works on two levels:\\n\\n**1. The Literal/Physical Level (The Objects):**\\n\\n* **Ballot Box:** This is the container where you put your completed ballot (your vote).\\n* **Voting Booth:** This is the private enclosure where you mark your ballot.\\n\\nIn a physical sense, the booth is the place where the decision (the marking of the vote) is *made*, and the ballot box is the place where the decision is *deposited*.\\n\\n**2. The Figurative/Political Level (The Pun):**\\n\\nThe humor comes from the word **\"influence\"**:\\n\\n* **In a Political Context:** \"Influence\" refers to trying to sway someone\\'s opinion or decision, often in a biased or persuasive way. The joke suggests the booth was pressuring the box about *how* to vote.\\n* **In the Context of the Joke\\'s Relationship:** When a couple breaks up, one common reason is feeling that the other person is too controlling or constantly trying to *influence* what they do or how they feel.\\n\\n**Why it\\'s funny:**\\n\\nThe joke personifies inanimate objects related to the democratic process. It takes the serious concept of casting a private vote and applies the petty, relatable drama of a breakup, using political jargon (\"influence\") as the reason for the separation. It implies the voting booth was being a nagging, controlling partner about the results!'}, next=(), config={'configurable': {'thread_id': '1', 'checkpoint_ns': '', 'checkpoint_id': '1f0a8d52-5e3f-634d-8004-93ff1da128f6'}}, metadata={'source': 'loop', 'step': 4, 'parents': {}}, created_at='2025-10-14T08:09:46.568174+00:00', parent_config={'configurable': {'thread_id': '1', 'checkpoint_ns': '', 'checkpoint_id': '1f0a8d52-4fcd-6e69-8003-37363bb1578c'}}, tasks=(), interrupts=()),\n",
       " StateSnapshot(values={'title': 'Democracy', 'joke': 'Why did the ballot box break up with the voting booth?\\n\\nBecause it felt like the booth was always trying to *influence* its decision!'}, next=('explain_joke',), config={'configurable': {'thread_id': '1', 'checkpoint_ns': '', 'checkpoint_id': '1f0a8d52-4fcd-6e69-8003-37363bb1578c'}}, metadata={'source': 'loop', 'step': 3, 'parents': {}}, created_at='2025-10-14T08:09:45.053757+00:00', parent_config={'configurable': {'thread_id': '1', 'checkpoint_ns': '', 'checkpoint_id': '1f0a8d52-473b-63ec-8002-8d111ec161b7'}}, tasks=(PregelTask(id='58825029-9855-6ce6-a59f-2ab23e0cb13c', name='explain_joke', path=('__pregel_pull', 'explain_joke'), error=None, interrupts=(), state=None, result={'explanation': 'This is a clever play on words that works on two levels:\\n\\n**1. The Literal/Physical Level (The Objects):**\\n\\n* **Ballot Box:** This is the container where you put your completed ballot (your vote).\\n* **Voting Booth:** This is the private enclosure where you mark your ballot.\\n\\nIn a physical sense, the booth is the place where the decision (the marking of the vote) is *made*, and the ballot box is the place where the decision is *deposited*.\\n\\n**2. The Figurative/Political Level (The Pun):**\\n\\nThe humor comes from the word **\"influence\"**:\\n\\n* **In a Political Context:** \"Influence\" refers to trying to sway someone\\'s opinion or decision, often in a biased or persuasive way. The joke suggests the booth was pressuring the box about *how* to vote.\\n* **In the Context of the Joke\\'s Relationship:** When a couple breaks up, one common reason is feeling that the other person is too controlling or constantly trying to *influence* what they do or how they feel.\\n\\n**Why it\\'s funny:**\\n\\nThe joke personifies inanimate objects related to the democratic process. It takes the serious concept of casting a private vote and applies the petty, relatable drama of a breakup, using political jargon (\"influence\") as the reason for the separation. It implies the voting booth was being a nagging, controlling partner about the results!'}),), interrupts=()),\n",
       " StateSnapshot(values={'title': 'Democracy'}, next=('make_joke',), config={'configurable': {'thread_id': '1', 'checkpoint_ns': '', 'checkpoint_id': '1f0a8d52-473b-63ec-8002-8d111ec161b7'}}, metadata={'source': 'loop', 'step': 2, 'parents': {}}, created_at='2025-10-14T08:09:44.154826+00:00', parent_config={'configurable': {'thread_id': '1', 'checkpoint_ns': '', 'checkpoint_id': '1f0a8d52-4733-6e8d-8001-d58adfcef4d5'}}, tasks=(PregelTask(id='aa93f1c0-be61-d3cd-9b70-4c314d8156aa', name='make_joke', path=('__pregel_pull', 'make_joke'), error=None, interrupts=(), state=None, result={'joke': 'Why did the ballot box break up with the voting booth?\\n\\nBecause it felt like the booth was always trying to *influence* its decision!'}),), interrupts=()),\n",
       " StateSnapshot(values={}, next=('__start__',), config={'configurable': {'thread_id': '1', 'checkpoint_ns': '', 'checkpoint_id': '1f0a8d52-4733-6e8d-8001-d58adfcef4d5'}}, metadata={'source': 'input', 'step': 1, 'parents': {}}, created_at='2025-10-14T08:09:44.151822+00:00', parent_config={'configurable': {'thread_id': '1', 'checkpoint_ns': '', 'checkpoint_id': '1f0a8d50-5710-6d18-8000-cdcbccf61af8'}}, tasks=(PregelTask(id='da71d2d4-d073-ebc6-0b28-c26abee1188a', name='__start__', path=('__pregel_pull', '__start__'), error=None, interrupts=(), state=None, result={'title': 'Democracy'}),), interrupts=()),\n",
       " StateSnapshot(values={}, next=('make_joke',), config={'configurable': {'thread_id': '1', 'checkpoint_ns': '', 'checkpoint_id': '1f0a8d50-5710-6d18-8000-cdcbccf61af8'}}, metadata={'source': 'loop', 'step': 0, 'parents': {}}, created_at='2025-10-14T08:08:52.128079+00:00', parent_config={'configurable': {'thread_id': '1', 'checkpoint_ns': '', 'checkpoint_id': '1f0a8d50-5707-60a9-bfff-cbf824c3aa34'}}, tasks=(PregelTask(id='5ff86e09-6bf7-efc5-3fb1-7fc9168ae4ea', name='make_joke', path=('__pregel_pull', 'make_joke'), error=\"KeyError('title')\", interrupts=(), state=None, result=None),), interrupts=()),\n",
       " StateSnapshot(values={}, next=('__start__',), config={'configurable': {'thread_id': '1', 'checkpoint_ns': '', 'checkpoint_id': '1f0a8d50-5707-60a9-bfff-cbf824c3aa34'}}, metadata={'source': 'input', 'step': -1, 'parents': {}}, created_at='2025-10-14T08:08:52.124074+00:00', parent_config=None, tasks=(PregelTask(id='ff363d8f-e276-7f7d-1a65-675295f5f6f6', name='__start__', path=('__pregel_pull', '__start__'), error=None, interrupts=(), state=None, result={}),), interrupts=())]"
      ]
     },
     "execution_count": 56,
     "metadata": {},
     "output_type": "execute_result"
    }
   ],
   "source": [
    "list(joke.get_state_history(config1))"
   ]
  },
  {
   "cell_type": "code",
   "execution_count": null,
   "id": "9b113497",
   "metadata": {},
   "outputs": [],
   "source": []
  },
  {
   "cell_type": "code",
   "execution_count": null,
   "id": "15b1a184",
   "metadata": {},
   "outputs": [],
   "source": []
  },
  {
   "cell_type": "code",
   "execution_count": null,
   "id": "151c7af5",
   "metadata": {},
   "outputs": [],
   "source": []
  }
 ],
 "metadata": {
  "kernelspec": {
   "display_name": "chatbot (3.12.7)",
   "language": "python",
   "name": "python3"
  },
  "language_info": {
   "codemirror_mode": {
    "name": "ipython",
    "version": 3
   },
   "file_extension": ".py",
   "mimetype": "text/x-python",
   "name": "python",
   "nbconvert_exporter": "python",
   "pygments_lexer": "ipython3",
   "version": "3.12.7"
  }
 },
 "nbformat": 4,
 "nbformat_minor": 5
}
